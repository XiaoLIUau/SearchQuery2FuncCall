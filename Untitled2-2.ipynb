{
  "nbformat": 4,
  "nbformat_minor": 0,
  "metadata": {
    "colab": {
      "provenance": []
    },
    "kernelspec": {
      "name": "python3",
      "display_name": "Python 3"
    },
    "language_info": {
      "name": "python"
    }
  },
  "cells": [
    {
      "cell_type": "code",
      "execution_count": null,
      "metadata": {
        "id": "TpCLZIwGuow1"
      },
      "outputs": [],
      "source": []
    },
    {
      "cell_type": "code",
      "source": [
        "%pip install --upgrade pip\n",
        "%pip install --disable-pip-version-check \\\n",
        "    torch==1.13.1 \\\n",
        "    torchdata==0.5.1 --quiet\n",
        "\n",
        "%pip install \\\n",
        "    transformers==4.27.2 \\\n",
        "    datasets==2.11.0 \\\n",
        "    evaluate==0.4.0 \\\n",
        "    rouge_score==0.1.2 \\\n",
        "    loralib==0.1.1 \\\n",
        "    peft==0.3.0 --quiet"
      ],
      "metadata": {
        "id": "sk-Grjf1vC6D"
      },
      "execution_count": null,
      "outputs": []
    },
    {
      "cell_type": "code",
      "source": [
        "from datasets import load_dataset, load_metric\n",
        "from transformers import AutoModelForSeq2SeqLM, AutoTokenizer, GenerationConfig, TrainingArguments, Trainer\n",
        "import torch\n",
        "import time\n",
        "import evaluate\n",
        "import pandas as pd\n",
        "import numpy as np\n"
      ],
      "metadata": {
        "id": "YEP4ZNujvFYo"
      },
      "execution_count": null,
      "outputs": []
    },
    {
      "cell_type": "code",
      "source": [
        "dataset = load_dataset('json', data_files='flan_t5_q2f_dataset.json')"
      ],
      "metadata": {
        "id": "NDK2tvft019F"
      },
      "execution_count": null,
      "outputs": []
    },
    {
      "cell_type": "code",
      "source": [
        "q2f_datasets=dataset.shuffle(seed=42)\n",
        "q2f_datasets"
      ],
      "metadata": {
        "id": "1W6soz8g4rYl"
      },
      "execution_count": null,
      "outputs": []
    },
    {
      "cell_type": "code",
      "source": [
        "datasets_train_test = q2f_datasets[\"train\"].train_test_split(test_size=80)\n",
        "datasets_train_validation = datasets_train_test[\"train\"].train_test_split(test_size=50)\n",
        "\n",
        "q2f_datasets[\"train\"] = datasets_train_validation[\"train\"]\n",
        "q2f_datasets[\"validation\"] = datasets_train_validation[\"test\"]\n",
        "q2f_datasets[\"test\"] = datasets_train_test[\"test\"]\n",
        "q2f_datasets"
      ],
      "metadata": {
        "id": "5ajuIDqL4tJ7"
      },
      "execution_count": null,
      "outputs": []
    },
    {
      "cell_type": "code",
      "source": [
        "example_indices = [9, 40, 50]\n",
        "\n",
        "dash_line = '-'.join('' for x in range(100))\n",
        "\n",
        "for i, index in enumerate(example_indices):\n",
        "    print(dash_line)\n",
        "    print('Example ', i + 1)\n",
        "    print(dash_line)\n",
        "    print('INPUT:')\n",
        "    print(q2f_datasets['test'][index]['input'])\n",
        "    print(dash_line)\n",
        "    print('OUTPUT:')\n",
        "    print(q2f_datasets['test'][index]['output'])\n",
        "    print(dash_line)\n",
        "    print()"
      ],
      "metadata": {
        "id": "dwrY0Cx15Stq"
      },
      "execution_count": null,
      "outputs": []
    },
    {
      "cell_type": "code",
      "source": [
        "model_name='google/flan-t5-base'\n",
        "\n",
        "original_model = AutoModelForSeq2SeqLM.from_pretrained(model_name)"
      ],
      "metadata": {
        "id": "sSvYEDXn55dV"
      },
      "execution_count": null,
      "outputs": []
    },
    {
      "cell_type": "code",
      "source": [
        "tokenizer = AutoTokenizer.from_pretrained(model_name, use_fast=True)"
      ],
      "metadata": {
        "id": "yEol7fNt6NkV"
      },
      "execution_count": null,
      "outputs": []
    },
    {
      "cell_type": "code",
      "source": [
        "def print_number_of_trainable_model_parameters(model):\n",
        "    trainable_model_params = 0\n",
        "    all_model_params = 0\n",
        "    for _, param in model.named_parameters():\n",
        "        all_model_params += param.numel()\n",
        "        if param.requires_grad:\n",
        "            trainable_model_params += param.numel()\n",
        "    return f\"trainable model parameters: {trainable_model_params}\\nall model parameters: {all_model_params}\\npercentage of trainable model parameters: {100 * trainable_model_params / all_model_params:.2f}%\"\n",
        "\n",
        "print(print_number_of_trainable_model_parameters(original_model))"
      ],
      "metadata": {
        "id": "vbGuIkh3MOc3"
      },
      "execution_count": null,
      "outputs": []
    },
    {
      "cell_type": "code",
      "source": [
        "sentence = \"miles to kilometers\"\n",
        "\n",
        "sentence_encoded = tokenizer(sentence, return_tensors='pt')\n",
        "\n",
        "sentence_decoded = tokenizer.decode(\n",
        "        sentence_encoded[\"input_ids\"][0],\n",
        "        skip_special_tokens=True\n",
        "    )\n",
        "\n",
        "print('ENCODED SENTENCE:')\n",
        "print(sentence_encoded[\"input_ids\"][0])\n",
        "print('\\nDECODED SENTENCE:')\n",
        "print(sentence_decoded)"
      ],
      "metadata": {
        "id": "D6inMaLs6vCw"
      },
      "execution_count": null,
      "outputs": []
    },
    {
      "cell_type": "code",
      "source": [
        "for i, index in enumerate(example_indices):\n",
        "    input = q2f_datasets['test'][index]['input']\n",
        "    output = q2f_datasets['test'][index]['output']\n",
        "\n",
        "    prompt = f\"\"\"\n",
        "Input:\n",
        "\n",
        "{input}\n",
        "\n",
        "Output: ?\n",
        "    \"\"\"\n",
        "\n",
        "    # Input constructed prompt instead of the dialogue.\n",
        "\n",
        "    inputs = tokenizer(prompt, return_tensors='pt')\n",
        "    generated = tokenizer.decode(\n",
        "        model.generate(\n",
        "            inputs[\"input_ids\"],\n",
        "            max_new_tokens=50,\n",
        "        )[0],\n",
        "        skip_special_tokens=True\n",
        "    )\n",
        "\n",
        "    print(dash_line)\n",
        "    print('Example ', i + 1)\n",
        "    print(dash_line)\n",
        "    print(f'INPUT:\\n{input}')\n",
        "    print(dash_line)\n",
        "    print(f'BASELINE OUTPUT:\\n{output}')\n",
        "    print(dash_line)\n",
        "    print(f'MODEL GENERATION - OUTPUT:\\n{generated}\\n')"
      ],
      "metadata": {
        "id": "e3asTqgX66ab"
      },
      "execution_count": null,
      "outputs": []
    },
    {
      "cell_type": "markdown",
      "source": [
        "# Few-shot-prompting"
      ],
      "metadata": {
        "id": "3u_0_KmmR4rJ"
      }
    },
    {
      "cell_type": "code",
      "source": [
        "def make_prompt(example_indices_full, example_index_to_translate):\n",
        "    prompt = ''\n",
        "    for index in example_indices_full:\n",
        "        input = q2f_datasets['test'][index]['input']\n",
        "        output = q2f_datasets['test'][index]['output']\n",
        "\n",
        "        # The stop sequence '{ouptut}\\n\\n\\n' is important for FLAN-T5. Other models may have their own preferred stop sequence.\n",
        "        prompt += f\"\"\"\n",
        "Input:\n",
        "\n",
        "{input}\n",
        "\n",
        "Output:\n",
        "{output}\n",
        "\n",
        "\n",
        "\"\"\"\n",
        "\n",
        "    input = q2f_datasets['test'][example_index_to_translate]['input']\n",
        "\n",
        "    prompt += f\"\"\"\n",
        "Input:\n",
        "\n",
        "{input}\n",
        "\n",
        "Output:\n",
        "\"\"\"\n",
        "\n",
        "    return prompt"
      ],
      "metadata": {
        "id": "5mBMQSzI7quH"
      },
      "execution_count": null,
      "outputs": []
    },
    {
      "cell_type": "code",
      "source": [
        "example_indices_full = [9, 40, 50]\n",
        "example_index_to_translate = 60\n",
        "\n",
        "few_shot_prompt = make_prompt(example_indices_full, example_index_to_translate)\n",
        "\n",
        "print(few_shot_prompt)"
      ],
      "metadata": {
        "id": "mEB2xW9F90Uv"
      },
      "execution_count": null,
      "outputs": []
    },
    {
      "cell_type": "code",
      "source": [
        "output = q2f_datasets['test'][example_index_to_translate]['output']\n",
        "\n",
        "\n",
        "generation_config = GenerationConfig(max_new_tokens=50, do_sample=True, temperature=0.00000000000001)\n",
        "inputs = tokenizer(few_shot_prompt, return_tensors='pt')\n",
        "translate = tokenizer.decode(\n",
        "    model.generate(\n",
        "        inputs[\"input_ids\"],\n",
        "        generation_config=generation_config,\n",
        "    )[0],\n",
        "    skip_special_tokens=True\n",
        ")\n",
        "\n",
        "print(dash_line)\n",
        "print(f'BASELINE OUTPUT:\\n{output}\\n')\n",
        "print(dash_line)\n",
        "print(f'MODEL GENERATION - FEW SHOTS:\\n{translate}')"
      ],
      "metadata": {
        "id": "1sMBQhYZ92eN"
      },
      "execution_count": null,
      "outputs": []
    },
    {
      "cell_type": "markdown",
      "source": [
        "# Preprocess Datasets"
      ],
      "metadata": {
        "id": "wvyBEsBfOLW1"
      }
    },
    {
      "cell_type": "code",
      "source": [
        "def tokenize_function(example):\n",
        "    start_prompt = 'Input:\\n\\n'\n",
        "    end_prompt = '\\n\\nOutput: '\n",
        "    prompt = [start_prompt + input + end_prompt for input in example[\"input\"]]\n",
        "    example['input_ids'] = tokenizer(prompt, padding=\"max_length\", truncation=True, return_tensors=\"pt\").input_ids\n",
        "    example['labels'] = tokenizer(example[\"output\"], padding=\"max_length\", truncation=True, return_tensors=\"pt\").input_ids\n",
        "\n",
        "    return example\n",
        "\n",
        "# The dataset actually contains 3 diff splits: train, validation, test.\n",
        "# The tokenize_function code is handling all data across all splits in batches.\n",
        "tokenized_datasets = q2f_datasets.map(tokenize_function, batched=True)\n",
        "tokenized_datasets = tokenized_datasets.remove_columns(['input', 'output',])"
      ],
      "metadata": {
        "id": "PllSx3c3OKBR"
      },
      "execution_count": null,
      "outputs": []
    },
    {
      "cell_type": "code",
      "source": [
        "tokenized_datasets"
      ],
      "metadata": {
        "id": "mhSmB1CLOwGk"
      },
      "execution_count": null,
      "outputs": []
    },
    {
      "cell_type": "code",
      "source": [
        "from peft import LoraConfig, get_peft_model, TaskType\n",
        "\n",
        "lora_config = LoraConfig(\n",
        "    r=32, # Rank\n",
        "    lora_alpha=32,\n",
        "    target_modules=[\"q\", \"v\"],\n",
        "    lora_dropout=0.05,\n",
        "    bias=\"none\",\n",
        "    task_type=TaskType.SEQ_2_SEQ_LM # FLAN-T5\n",
        ")\n",
        "peft_model = get_peft_model(original_model,\n",
        "                            lora_config)\n",
        "print(print_number_of_trainable_model_parameters(peft_model))"
      ],
      "metadata": {
        "id": "nAIwh82dBeCb"
      },
      "execution_count": null,
      "outputs": []
    },
    {
      "cell_type": "markdown",
      "source": [
        "<a name='3.2'></a>\n",
        "### 3.2 - Train PEFT Adapter\n",
        "\n",
        "Define training arguments and create `Trainer` instance."
      ],
      "metadata": {
        "id": "4-Jd8wfOPduy"
      }
    },
    {
      "cell_type": "code",
      "source": [
        "output_dir = f'./peft-quary-fucntion-training-{str(int(time.time()))}'\n",
        "\n",
        "peft_training_args = TrainingArguments(\n",
        "    output_dir=output_dir,\n",
        "    auto_find_batch_size=True,\n",
        "    learning_rate=1e-3,\n",
        "    num_train_epochs=5,\n",
        "    logging_steps=1,\n",
        "    max_steps=1\n",
        ")\n",
        "\n",
        "peft_trainer = Trainer(\n",
        "    model=peft_model,\n",
        "    args=peft_training_args,\n",
        "    train_dataset=tokenized_datasets[\"train\"],\n",
        ")"
      ],
      "metadata": {
        "id": "r1lXH5bmNUxH"
      },
      "execution_count": null,
      "outputs": []
    },
    {
      "cell_type": "code",
      "source": [
        "peft_trainer.train()\n",
        "\n",
        "peft_model_path=\"./peft-quary-fucntion-checkpoint-local\"\n",
        "\n",
        "peft_trainer.model.save_pretrained(peft_model_path)\n",
        "tokenizer.save_pretrained(peft_model_path)"
      ],
      "metadata": {
        "id": "TSSK2DAvP_hc"
      },
      "execution_count": null,
      "outputs": []
    },
    {
      "cell_type": "code",
      "source": [],
      "metadata": {
        "id": "bTqUcmm6QVgP"
      },
      "execution_count": null,
      "outputs": []
    }
  ]
}